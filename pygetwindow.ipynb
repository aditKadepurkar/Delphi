{
 "cells": [
  {
   "cell_type": "code",
   "execution_count": 86,
   "metadata": {},
   "outputs": [],
   "source": [
    "import pygetwindow as gw\n",
    "from Quartz import CGWindowListCopyWindowInfo, kCGWindowListOptionOnScreenOnly, kCGNullWindowID\n",
    "from AppKit import NSWorkspace, NSApplication, NSRunningApplication\n",
    "from Quartz.CoreGraphics import CGRectMake\n",
    "import objc\n",
    "import subprocess\n",
    "from dotenv import load_dotenv\n",
    "from openai import OpenAI\n",
    "import os\n",
    "import json"
   ]
  },
  {
   "cell_type": "code",
   "execution_count": 91,
   "metadata": {},
   "outputs": [],
   "source": [
    "# Function to find a window by application name\n",
    "def find_window(app_name):\n",
    "    windows = CGWindowListCopyWindowInfo(kCGWindowListOptionOnScreenOnly, kCGNullWindowID)\n",
    "    for window in windows:\n",
    "        # print(window)\n",
    "        # if 'kCGWindowName' in window and 'kCGWindowOwnerName' in window:\n",
    "            # print(window['kCGWindowOwnerName'])\n",
    "        if window['kCGWindowOwnerName'] == app_name:\n",
    "            return window\n",
    "    return None\n",
    "\n",
    "# Resize the window\n",
    "def resize_window(window, x_bound, y_bound, width, height):\n",
    "    # Get the window ID and current bounds\n",
    "    # window_id = window['kCGWindowNumber']\n",
    "    # bounds = window['kCGWindowBounds']\n",
    "    \n",
    "    # New position and size\n",
    "    new_position = (x_bound, y_bound)\n",
    "    new_size = (width, height)\n",
    "    \n",
    "    # Use an AppleScript command to resize the window\n",
    "    script = f\"\"\"\n",
    "    tell application \"System Events\"\n",
    "        set the position of window 1 of process \"{window[\"kCGWindowOwnerName\"]}\" to {{{new_position[0]}, {new_position[1]}}}\n",
    "        set the size of window 1 of process \"Discord\" to {{{new_size[0]}, {new_size[1]}}}\n",
    "    end tell\n",
    "    \"\"\"\n",
    "    try:\n",
    "        subprocess.run(['osascript', '-e', script])\n",
    "        return \"Success\"\n",
    "    except Exception as e:\n",
    "        return e"
   ]
  },
  {
   "cell_type": "code",
   "execution_count": 15,
   "metadata": {},
   "outputs": [
    {
     "data": {
      "text/plain": [
       "['AXVisualSupportAgent ',\n",
       " 'Stats ',\n",
       " 'Stats ',\n",
       " 'Stats ',\n",
       " 'Stats ',\n",
       " 'Control Center ',\n",
       " 'Control Center ',\n",
       " 'Control Center ',\n",
       " 'Control Center ',\n",
       " 'Control Center ',\n",
       " 'Ollama ',\n",
       " 'Rectangle ',\n",
       " 'Window Server Menubar',\n",
       " 'Dock ',\n",
       " 'Visual Studio Code ',\n",
       " 'Discord ',\n",
       " 'Finder ',\n",
       " 'Notes ']"
      ]
     },
     "execution_count": 15,
     "metadata": {},
     "output_type": "execute_result"
    }
   ],
   "source": [
    "gw.getAllTitles()"
   ]
  },
  {
   "cell_type": "code",
   "execution_count": 37,
   "metadata": {},
   "outputs": [
    {
     "name": "stdout",
     "output_type": "stream",
     "text": [
      "{\n",
      "    kCGWindowAlpha = 1;\n",
      "    kCGWindowBounds =     {\n",
      "        Height = 600;\n",
      "        Width = 940;\n",
      "        X = 29;\n",
      "        Y = 50;\n",
      "    };\n",
      "    kCGWindowIsOnscreen = 1;\n",
      "    kCGWindowLayer = 0;\n",
      "    kCGWindowMemoryUsage = 2176;\n",
      "    kCGWindowNumber = 64164;\n",
      "    kCGWindowOwnerName = Discord;\n",
      "    kCGWindowOwnerPID = 15814;\n",
      "    kCGWindowSharingState = 0;\n",
      "    kCGWindowStoreType = 1;\n",
      "}\n"
     ]
    }
   ],
   "source": [
    "# Example usage\n",
    "app_name = \"Discord\"  # Replace with your application's name\n",
    "window = find_window(app_name)\n",
    "print(window)"
   ]
  },
  {
   "cell_type": "code",
   "execution_count": 70,
   "metadata": {},
   "outputs": [
    {
     "name": "stdout",
     "output_type": "stream",
     "text": [
      "(80, 150) (1900, 1100)\n"
     ]
    }
   ],
   "source": [
    "if window:\n",
    "    resize_window(window, 80, 150, 1900, 1100)\n",
    "else:\n",
    "    print(f\"No window found for application {app_name}\")"
   ]
  },
  {
   "cell_type": "code",
   "execution_count": null,
   "metadata": {},
   "outputs": [],
   "source": [
    "# We will need to figure out a way to map from things like Visual Studio Code to the actual name we have to use(Electron) and also deal with multiple electron applications\n"
   ]
  },
  {
   "cell_type": "code",
   "execution_count": 92,
   "metadata": {},
   "outputs": [],
   "source": [
    "def full_resize(window_name, x=0, y=0, w=1000, h=1000):\n",
    "    window = find_window(window_name)\n",
    "    if window:\n",
    "        return resize_window(window, x, y, w, h)\n",
    "    else:\n",
    "        return (f\"No window found for application {window_name}\")"
   ]
  },
  {
   "cell_type": "code",
   "execution_count": 80,
   "metadata": {},
   "outputs": [
    {
     "data": {
      "text/plain": [
       "'Success'"
      ]
     },
     "execution_count": 80,
     "metadata": {},
     "output_type": "execute_result"
    }
   ],
   "source": [
    "full_resize(\"Discord\", 800, 150, 1900, 1100)"
   ]
  },
  {
   "cell_type": "markdown",
   "metadata": {},
   "source": [
    "# Function calling implementation"
   ]
  },
  {
   "cell_type": "code",
   "execution_count": 89,
   "metadata": {},
   "outputs": [],
   "source": [
    "load_dotenv()\n",
    "os.getenv(\"OPENAI_API_KEY\")\n",
    "client = OpenAI()"
   ]
  },
  {
   "cell_type": "code",
   "execution_count": 90,
   "metadata": {},
   "outputs": [],
   "source": [
    "# defining the tools(functions)\n",
    "tools = [\n",
    "    {\n",
    "        \"type\": \"function\",\n",
    "        \"function\": {\n",
    "            \"name\": \"full_resize\",\n",
    "            \"description\": \"Resize a window to the specified dimensions\",\n",
    "            \"parameters\": {\n",
    "                \"type\": \"object\",\n",
    "                \"properties\": {\n",
    "                    \"window_name\": {\n",
    "                        \"type\": \"string\",\n",
    "                        \"description\": \"The name of the window to resize\"\n",
    "                    },\n",
    "                    \"x\": {\n",
    "                        \"type\": \"number\",\n",
    "                        \"description\": \"The x-coordinate of the window\"\n",
    "                    },\n",
    "                    \"y\": {\n",
    "                        \"type\": \"number\",\n",
    "                        \"description\": \"The y-coordinate of the window\"\n",
    "                    },\n",
    "                    \"w\": {\n",
    "                        \"type\": \"number\",\n",
    "                        \"description\": \"The width of the window\"\n",
    "                    },\n",
    "                    \"h\": {\n",
    "                        \"type\": \"number\",\n",
    "                        \"description\": \"The height of the window\"\n",
    "                    }\n",
    "                },\n",
    "                \"required\": [\"window_name\", \"x\", \"y\", \"w\", \"h\"]\n",
    "            }\n",
    "        }\n",
    "    }\n",
    "]\n",
    "    # {\n",
    "    #     \"type\": \"function\",\n",
    "    #     \"function\": {\n",
    "    #         \"name\": \"find_window\",\n",
    "    #         \"description\": \"Find a window by application name\",\n",
    "    #         \"parameters\": {\n",
    "    #             \"type\": \"object\",\n",
    "    #             \"properties\": {\n",
    "    #                 \"app_name\": {\n",
    "    #                     \"type\": \"string\",\n",
    "    #                     \"description\": \"The name of the application to find\"\n",
    "    #                 }\n",
    "    #             },\n",
    "    #             \"required\": [\"app_name\"]\n",
    "    #         }\n",
    "    #     }\n",
    "    # }"
   ]
  },
  {
   "cell_type": "code",
   "execution_count": 99,
   "metadata": {},
   "outputs": [],
   "source": [
    "available_functions = {\n",
    "    \"full_resize\": full_resize\n",
    "}\n",
    "\n",
    "def pipeline(input):\n",
    "    messages = [{\"role\": \"user\", \"content\": input}]\n",
    "    response = client.chat.completions.create(\n",
    "        model=\"gpt-4o-mini\",\n",
    "        messages=messages,\n",
    "        tools=tools,\n",
    "        tool_choice=\"auto\"\n",
    "    )\n",
    "    \n",
    "    # print(response)\n",
    "    response_message = response.choices[0].message\n",
    "    tool_calls = response_message.tool_calls\n",
    "    \n",
    "    if tool_calls:\n",
    "        for tool_call in tool_calls:\n",
    "            function_name = tool_call.function.name\n",
    "            function = available_functions[function_name]\n",
    "            parameters = json.loads(tool_call.function.arguments)\n",
    "            \n",
    "            func_response = function(\n",
    "                **parameters\n",
    "            )\n",
    "            \n",
    "            \n",
    "    \n"
   ]
  },
  {
   "cell_type": "code",
   "execution_count": 105,
   "metadata": {},
   "outputs": [],
   "source": [
    "# Thoughts on this implementation(7/31/24):\n",
    "# \n",
    "# Works really well--but. It never full brings the windows all the way to the right edge.\n",
    "# This will be interesting to look into and I expect it will get more refined as we work \n",
    "# with different machines and resolutions as well as applications.\n",
    "# \n",
    "# Interestingly it's tolerance changes based on it's starting location, we may need to \n",
    "# give these as parameters to another function that can get called before going to the \n",
    "# main function.\n",
    "# \n",
    "# This will likely be an interesting ongoing problem we will have to mess with to figure \n",
    "# out a method to make it stay consistent even as user queries get increasingly more\n",
    "# complex(ie: \"Move my discord window to the middle bottom of my top monitor\")\n",
    "# \n",
    "# Another interesting thing is that in MacOS windows that aren't on your current monitor\n",
    "# (or if you are fullscreened) don't show up in the list of windows. I have not tested\n",
    "# if they can still be manipulated, but I would assume they can't.\n",
    "\n",
    "pipeline(input=\"put discord at the right of the screen\")"
   ]
  }
 ],
 "metadata": {
  "kernelspec": {
   "display_name": "Delphi",
   "language": "python",
   "name": "python3"
  },
  "language_info": {
   "codemirror_mode": {
    "name": "ipython",
    "version": 3
   },
   "file_extension": ".py",
   "mimetype": "text/x-python",
   "name": "python",
   "nbconvert_exporter": "python",
   "pygments_lexer": "ipython3",
   "version": "3.12.4"
  }
 },
 "nbformat": 4,
 "nbformat_minor": 2
}
